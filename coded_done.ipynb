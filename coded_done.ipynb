{
  "nbformat": 4,
  "nbformat_minor": 0,
  "metadata": {
    "colab": {
      "name": "Untitled15.ipynb",
      "provenance": [],
      "authorship_tag": "ABX9TyPepbqelrGmh2H4hC0H+7zZ",
      "include_colab_link": true
    },
    "kernelspec": {
      "name": "python3",
      "display_name": "Python 3"
    },
    "language_info": {
      "name": "python"
    }
  },
  "cells": [
    {
      "cell_type": "markdown",
      "metadata": {
        "id": "view-in-github",
        "colab_type": "text"
      },
      "source": [
        "<a href=\"https://colab.research.google.com/github/nagapriya1247/hello_world/blob/main/coded_done.ipynb\" target=\"_parent\"><img src=\"https://colab.research.google.com/assets/colab-badge.svg\" alt=\"Open In Colab\"/></a>"
      ]
    },
    {
      "cell_type": "code",
      "execution_count": 5,
      "metadata": {
        "id": "HlNKg6WWSZ2X"
      },
      "outputs": [],
      "source": [
        "import tensorflow as tf\n",
        "import numpy as np\n",
        "from keras.models import Sequential\n",
        "from keras.utils import np_utils\n",
        "from keras.layers import Dense, Activation , LSTM , Dropout , AveragePooling3D\n",
        "import pandas as pd\n",
        "\n",
        "import matplotlib.pyplot as plt"
      ]
    },
    {
      "cell_type": "code",
      "source": [
        "df=pd.read_csv('/content/Epileptic Seizure Recognition.csv')\n",
        "df.head()"
      ],
      "metadata": {
        "colab": {
          "base_uri": "https://localhost:8080/",
          "height": 235
        },
        "id": "iXifH70Cdcki",
        "outputId": "f77851d7-2032-438e-8f61-d156db21dfe7"
      },
      "execution_count": 7,
      "outputs": [
        {
          "output_type": "execute_result",
          "data": {
            "text/plain": [
              "      Unnamed   X1   X2   X3   X4   X5   X6   X7   X8   X9  ...  X170  X171  \\\n",
              "0  X21.V1.791  135  190  229  223  192  125   55   -9  -33  ...   -17   -15   \n",
              "1  X15.V1.924  386  382  356  331  320  315  307  272  244  ...   164   150   \n",
              "2     X8.V1.1  -32  -39  -47  -37  -32  -36  -57  -73  -85  ...    57    64   \n",
              "3   X16.V1.60 -105 -101  -96  -92  -89  -95 -102 -100  -87  ...   -82   -81   \n",
              "4   X20.V1.54   -9  -65  -98 -102  -78  -48  -16    0  -21  ...     4     2   \n",
              "\n",
              "   X172  X173  X174  X175  X176  X177  X178  y  \n",
              "0   -31   -77  -103  -127  -116   -83   -51  4  \n",
              "1   146   152   157   156   154   143   129  1  \n",
              "2    48    19   -12   -30   -35   -35   -36  5  \n",
              "3   -80   -77   -85   -77   -72   -69   -65  5  \n",
              "4   -12   -32   -41   -65   -83   -89   -73  5  \n",
              "\n",
              "[5 rows x 180 columns]"
            ],
            "text/html": [
              "\n",
              "  <div id=\"df-de28f9e7-c670-4e5a-b639-0fb1d9531fd7\">\n",
              "    <div class=\"colab-df-container\">\n",
              "      <div>\n",
              "<style scoped>\n",
              "    .dataframe tbody tr th:only-of-type {\n",
              "        vertical-align: middle;\n",
              "    }\n",
              "\n",
              "    .dataframe tbody tr th {\n",
              "        vertical-align: top;\n",
              "    }\n",
              "\n",
              "    .dataframe thead th {\n",
              "        text-align: right;\n",
              "    }\n",
              "</style>\n",
              "<table border=\"1\" class=\"dataframe\">\n",
              "  <thead>\n",
              "    <tr style=\"text-align: right;\">\n",
              "      <th></th>\n",
              "      <th>Unnamed</th>\n",
              "      <th>X1</th>\n",
              "      <th>X2</th>\n",
              "      <th>X3</th>\n",
              "      <th>X4</th>\n",
              "      <th>X5</th>\n",
              "      <th>X6</th>\n",
              "      <th>X7</th>\n",
              "      <th>X8</th>\n",
              "      <th>X9</th>\n",
              "      <th>...</th>\n",
              "      <th>X170</th>\n",
              "      <th>X171</th>\n",
              "      <th>X172</th>\n",
              "      <th>X173</th>\n",
              "      <th>X174</th>\n",
              "      <th>X175</th>\n",
              "      <th>X176</th>\n",
              "      <th>X177</th>\n",
              "      <th>X178</th>\n",
              "      <th>y</th>\n",
              "    </tr>\n",
              "  </thead>\n",
              "  <tbody>\n",
              "    <tr>\n",
              "      <th>0</th>\n",
              "      <td>X21.V1.791</td>\n",
              "      <td>135</td>\n",
              "      <td>190</td>\n",
              "      <td>229</td>\n",
              "      <td>223</td>\n",
              "      <td>192</td>\n",
              "      <td>125</td>\n",
              "      <td>55</td>\n",
              "      <td>-9</td>\n",
              "      <td>-33</td>\n",
              "      <td>...</td>\n",
              "      <td>-17</td>\n",
              "      <td>-15</td>\n",
              "      <td>-31</td>\n",
              "      <td>-77</td>\n",
              "      <td>-103</td>\n",
              "      <td>-127</td>\n",
              "      <td>-116</td>\n",
              "      <td>-83</td>\n",
              "      <td>-51</td>\n",
              "      <td>4</td>\n",
              "    </tr>\n",
              "    <tr>\n",
              "      <th>1</th>\n",
              "      <td>X15.V1.924</td>\n",
              "      <td>386</td>\n",
              "      <td>382</td>\n",
              "      <td>356</td>\n",
              "      <td>331</td>\n",
              "      <td>320</td>\n",
              "      <td>315</td>\n",
              "      <td>307</td>\n",
              "      <td>272</td>\n",
              "      <td>244</td>\n",
              "      <td>...</td>\n",
              "      <td>164</td>\n",
              "      <td>150</td>\n",
              "      <td>146</td>\n",
              "      <td>152</td>\n",
              "      <td>157</td>\n",
              "      <td>156</td>\n",
              "      <td>154</td>\n",
              "      <td>143</td>\n",
              "      <td>129</td>\n",
              "      <td>1</td>\n",
              "    </tr>\n",
              "    <tr>\n",
              "      <th>2</th>\n",
              "      <td>X8.V1.1</td>\n",
              "      <td>-32</td>\n",
              "      <td>-39</td>\n",
              "      <td>-47</td>\n",
              "      <td>-37</td>\n",
              "      <td>-32</td>\n",
              "      <td>-36</td>\n",
              "      <td>-57</td>\n",
              "      <td>-73</td>\n",
              "      <td>-85</td>\n",
              "      <td>...</td>\n",
              "      <td>57</td>\n",
              "      <td>64</td>\n",
              "      <td>48</td>\n",
              "      <td>19</td>\n",
              "      <td>-12</td>\n",
              "      <td>-30</td>\n",
              "      <td>-35</td>\n",
              "      <td>-35</td>\n",
              "      <td>-36</td>\n",
              "      <td>5</td>\n",
              "    </tr>\n",
              "    <tr>\n",
              "      <th>3</th>\n",
              "      <td>X16.V1.60</td>\n",
              "      <td>-105</td>\n",
              "      <td>-101</td>\n",
              "      <td>-96</td>\n",
              "      <td>-92</td>\n",
              "      <td>-89</td>\n",
              "      <td>-95</td>\n",
              "      <td>-102</td>\n",
              "      <td>-100</td>\n",
              "      <td>-87</td>\n",
              "      <td>...</td>\n",
              "      <td>-82</td>\n",
              "      <td>-81</td>\n",
              "      <td>-80</td>\n",
              "      <td>-77</td>\n",
              "      <td>-85</td>\n",
              "      <td>-77</td>\n",
              "      <td>-72</td>\n",
              "      <td>-69</td>\n",
              "      <td>-65</td>\n",
              "      <td>5</td>\n",
              "    </tr>\n",
              "    <tr>\n",
              "      <th>4</th>\n",
              "      <td>X20.V1.54</td>\n",
              "      <td>-9</td>\n",
              "      <td>-65</td>\n",
              "      <td>-98</td>\n",
              "      <td>-102</td>\n",
              "      <td>-78</td>\n",
              "      <td>-48</td>\n",
              "      <td>-16</td>\n",
              "      <td>0</td>\n",
              "      <td>-21</td>\n",
              "      <td>...</td>\n",
              "      <td>4</td>\n",
              "      <td>2</td>\n",
              "      <td>-12</td>\n",
              "      <td>-32</td>\n",
              "      <td>-41</td>\n",
              "      <td>-65</td>\n",
              "      <td>-83</td>\n",
              "      <td>-89</td>\n",
              "      <td>-73</td>\n",
              "      <td>5</td>\n",
              "    </tr>\n",
              "  </tbody>\n",
              "</table>\n",
              "<p>5 rows × 180 columns</p>\n",
              "</div>\n",
              "      <button class=\"colab-df-convert\" onclick=\"convertToInteractive('df-de28f9e7-c670-4e5a-b639-0fb1d9531fd7')\"\n",
              "              title=\"Convert this dataframe to an interactive table.\"\n",
              "              style=\"display:none;\">\n",
              "        \n",
              "  <svg xmlns=\"http://www.w3.org/2000/svg\" height=\"24px\"viewBox=\"0 0 24 24\"\n",
              "       width=\"24px\">\n",
              "    <path d=\"M0 0h24v24H0V0z\" fill=\"none\"/>\n",
              "    <path d=\"M18.56 5.44l.94 2.06.94-2.06 2.06-.94-2.06-.94-.94-2.06-.94 2.06-2.06.94zm-11 1L8.5 8.5l.94-2.06 2.06-.94-2.06-.94L8.5 2.5l-.94 2.06-2.06.94zm10 10l.94 2.06.94-2.06 2.06-.94-2.06-.94-.94-2.06-.94 2.06-2.06.94z\"/><path d=\"M17.41 7.96l-1.37-1.37c-.4-.4-.92-.59-1.43-.59-.52 0-1.04.2-1.43.59L10.3 9.45l-7.72 7.72c-.78.78-.78 2.05 0 2.83L4 21.41c.39.39.9.59 1.41.59.51 0 1.02-.2 1.41-.59l7.78-7.78 2.81-2.81c.8-.78.8-2.07 0-2.86zM5.41 20L4 18.59l7.72-7.72 1.47 1.35L5.41 20z\"/>\n",
              "  </svg>\n",
              "      </button>\n",
              "      \n",
              "  <style>\n",
              "    .colab-df-container {\n",
              "      display:flex;\n",
              "      flex-wrap:wrap;\n",
              "      gap: 12px;\n",
              "    }\n",
              "\n",
              "    .colab-df-convert {\n",
              "      background-color: #E8F0FE;\n",
              "      border: none;\n",
              "      border-radius: 50%;\n",
              "      cursor: pointer;\n",
              "      display: none;\n",
              "      fill: #1967D2;\n",
              "      height: 32px;\n",
              "      padding: 0 0 0 0;\n",
              "      width: 32px;\n",
              "    }\n",
              "\n",
              "    .colab-df-convert:hover {\n",
              "      background-color: #E2EBFA;\n",
              "      box-shadow: 0px 1px 2px rgba(60, 64, 67, 0.3), 0px 1px 3px 1px rgba(60, 64, 67, 0.15);\n",
              "      fill: #174EA6;\n",
              "    }\n",
              "\n",
              "    [theme=dark] .colab-df-convert {\n",
              "      background-color: #3B4455;\n",
              "      fill: #D2E3FC;\n",
              "    }\n",
              "\n",
              "    [theme=dark] .colab-df-convert:hover {\n",
              "      background-color: #434B5C;\n",
              "      box-shadow: 0px 1px 3px 1px rgba(0, 0, 0, 0.15);\n",
              "      filter: drop-shadow(0px 1px 2px rgba(0, 0, 0, 0.3));\n",
              "      fill: #FFFFFF;\n",
              "    }\n",
              "  </style>\n",
              "\n",
              "      <script>\n",
              "        const buttonEl =\n",
              "          document.querySelector('#df-de28f9e7-c670-4e5a-b639-0fb1d9531fd7 button.colab-df-convert');\n",
              "        buttonEl.style.display =\n",
              "          google.colab.kernel.accessAllowed ? 'block' : 'none';\n",
              "\n",
              "        async function convertToInteractive(key) {\n",
              "          const element = document.querySelector('#df-de28f9e7-c670-4e5a-b639-0fb1d9531fd7');\n",
              "          const dataTable =\n",
              "            await google.colab.kernel.invokeFunction('convertToInteractive',\n",
              "                                                     [key], {});\n",
              "          if (!dataTable) return;\n",
              "\n",
              "          const docLinkHtml = 'Like what you see? Visit the ' +\n",
              "            '<a target=\"_blank\" href=https://colab.research.google.com/notebooks/data_table.ipynb>data table notebook</a>'\n",
              "            + ' to learn more about interactive tables.';\n",
              "          element.innerHTML = '';\n",
              "          dataTable['output_type'] = 'display_data';\n",
              "          await google.colab.output.renderOutput(dataTable, element);\n",
              "          const docLink = document.createElement('div');\n",
              "          docLink.innerHTML = docLinkHtml;\n",
              "          element.appendChild(docLink);\n",
              "        }\n",
              "      </script>\n",
              "    </div>\n",
              "  </div>\n",
              "  "
            ]
          },
          "metadata": {},
          "execution_count": 7
        }
      ]
    },
    {
      "cell_type": "code",
      "source": [
        "X=df.values\n"
      ],
      "metadata": {
        "id": "KNkfzyvddofN"
      },
      "execution_count": 8,
      "outputs": []
    },
    {
      "cell_type": "code",
      "source": [
        "X=X[:,1:-1]\n"
      ],
      "metadata": {
        "id": "39fDuz1LdqJ1"
      },
      "execution_count": 9,
      "outputs": []
    },
    {
      "cell_type": "code",
      "source": [
        "from sklearn.model_selection import train_test_split\n",
        "\n",
        "\n",
        "y=np.array(df['y'])\n",
        "Y=np_utils.to_categorical(y)\n",
        "Y.shape\n",
        "X_train, X_test, Y_train, Y_test = train_test_split(X, Y, test_size=0.20, random_state=1)"
      ],
      "metadata": {
        "id": "ns8h9FXEdsR2"
      },
      "execution_count": 10,
      "outputs": []
    },
    {
      "cell_type": "code",
      "source": [
        "X_train = X_train.reshape(-1,178,1)\n",
        "X_test = X_test.reshape(-1,178,1)\n",
        "\n",
        "\n",
        "X_train.shape\n",
        "X_test.shape\n"
      ],
      "metadata": {
        "colab": {
          "base_uri": "https://localhost:8080/"
        },
        "id": "KyoVZbNNduGM",
        "outputId": "e959b240-9c44-448f-e19a-ccf41260612f"
      },
      "execution_count": 11,
      "outputs": [
        {
          "output_type": "execute_result",
          "data": {
            "text/plain": [
              "(2300, 178, 1)"
            ]
          },
          "metadata": {},
          "execution_count": 11
        }
      ]
    },
    {
      "cell_type": "code",
      "source": [
        "plt.figure(figsize=(12,8))\n",
        "plt.plot(X[1,:],label='1')\n",
        "plt.plot(X[7,:],label='2')\n",
        "plt.plot(X[12,:],label='3')\n",
        "plt.plot(X[0,:],label='4')\n",
        "plt.plot(X[2,:],label='5')\n",
        "plt.legend()\n",
        "plt.show()"
      ],
      "metadata": {
        "colab": {
          "base_uri": "https://localhost:8080/",
          "height": 483
        },
        "id": "9q4_45-Jdv9P",
        "outputId": "6a4dd676-3c01-49c7-856b-77f67cfe7163"
      },
      "execution_count": 12,
      "outputs": [
        {
          "output_type": "display_data",
          "data": {
            "text/plain": [
              "<Figure size 864x576 with 1 Axes>"
            ],
            "image/png": "[encoded data removed]"
          },
          "metadata": {
            "needs_background": "light"
          }
        }
      ]
    },
    {
      "cell_type": "code",
      "source": [
        "model = Sequential()\n",
        "model.add(LSTM(56, input_shape=(45,1), return_sequences=True))\n",
        "model.add(Dropout(0.3))\n",
        "model.add(LSTM(56))\n",
        "model.add(Dropout(0.3))\n",
        "model.add(Dense(20))\n",
        "model.add(Activation('tanh'))\n",
        "model.add(Dense(5))\n",
        "model.add(Activation('softmax'))\n",
        "\n",
        "model.summary()"
      ],
      "metadata": {
        "colab": {
          "base_uri": "https://localhost:8080/"
        },
        "id": "fDMrabsjd0_H",
        "outputId": "96d577ae-89fe-47cb-aa0e-8c164195ebbd"
      },
      "execution_count": 13,
      "outputs": [
        {
          "output_type": "stream",
          "name": "stdout",
          "text": [
            "Model: \"sequential\"\n",
            "_________________________________________________________________\n",
            " Layer (type)                Output Shape              Param #   \n",
            "=================================================================\n",
            " lstm (LSTM)                 (None, 45, 56)            12992     \n",
            "                                                                 \n",
            " dropout (Dropout)           (None, 45, 56)            0         \n",
            "                                                                 \n",
            " lstm_1 (LSTM)               (None, 56)                25312     \n",
            "                                                                 \n",
            " dropout_1 (Dropout)         (None, 56)                0         \n",
            "                                                                 \n",
            " dense (Dense)               (None, 20)                1140      \n",
            "                                                                 \n",
            " activation (Activation)     (None, 20)                0         \n",
            "                                                                 \n",
            " dense_1 (Dense)             (None, 5)                 105       \n",
            "                                                                 \n",
            " activation_1 (Activation)   (None, 5)                 0         \n",
            "                                                                 \n",
            "=================================================================\n",
            "Total params: 39,549\n",
            "Trainable params: 39,549\n",
            "Non-trainable params: 0\n",
            "_________________________________________________________________\n"
          ]
        }
      ]
    },
    {
      "cell_type": "code",
      "source": [
        "model.compile(loss='binary_crossentropy', optimizer='adam', metrics=['accuracy'])\n"
      ],
      "metadata": {
        "id": "1-vnkVBkd4LI"
      },
      "execution_count": 14,
      "outputs": []
    },
    {
      "cell_type": "code",
      "source": [
        "\n",
        "import numpy as np\n",
        " \n",
        "\n",
        "X_train = np.asarray(X_train).astype(np.float32)\n",
        "Y_train = np.array(Y_train)\n",
        "\n",
        "hist = model.fit(X_train[:,::4],Y_train[:,1:],epochs = 50, batch_size=15)"
      ],
      "metadata": {
        "colab": {
          "base_uri": "https://localhost:8080/"
        },
        "id": "SDRCVn0-d6_Q",
        "outputId": "5efaa77a-3aa7-4eb3-9582-91e801e2f3e4"
      },
      "execution_count": 15,
      "outputs": [
        {
          "output_type": "stream",
          "name": "stdout",
          "text": [
            "Epoch 1/50\n",
            "614/614 [==============================] - 23s 31ms/step - loss: 0.3670 - accuracy: 0.5290\n",
            "Epoch 2/50\n",
            "614/614 [==============================] - 18s 30ms/step - loss: 0.2804 - accuracy: 0.6465\n",
            "Epoch 3/50\n",
            "614/614 [==============================] - 18s 30ms/step - loss: 0.2647 - accuracy: 0.6611\n",
            "Epoch 4/50\n",
            "614/614 [==============================] - 19s 31ms/step - loss: 0.2556 - accuracy: 0.6729\n",
            "Epoch 5/50\n",
            "614/614 [==============================] - 19s 31ms/step - loss: 0.2474 - accuracy: 0.6782\n",
            "Epoch 6/50\n",
            "614/614 [==============================] - 19s 30ms/step - loss: 0.2430 - accuracy: 0.6847\n",
            "Epoch 7/50\n",
            "614/614 [==============================] - 19s 31ms/step - loss: 0.2380 - accuracy: 0.6943\n",
            "Epoch 8/50\n",
            "614/614 [==============================] - 20s 32ms/step - loss: 0.2389 - accuracy: 0.6959\n",
            "Epoch 9/50\n",
            "614/614 [==============================] - 19s 31ms/step - loss: 0.2312 - accuracy: 0.7008\n",
            "Epoch 10/50\n",
            "614/614 [==============================] - 19s 31ms/step - loss: 0.2273 - accuracy: 0.7129\n",
            "Epoch 11/50\n",
            "614/614 [==============================] - 19s 30ms/step - loss: 0.2231 - accuracy: 0.7217\n",
            "Epoch 12/50\n",
            "614/614 [==============================] - 19s 31ms/step - loss: 0.2202 - accuracy: 0.7275\n",
            "Epoch 13/50\n",
            "614/614 [==============================] - 19s 32ms/step - loss: 0.2179 - accuracy: 0.7314\n",
            "Epoch 14/50\n",
            "614/614 [==============================] - 19s 31ms/step - loss: 0.2154 - accuracy: 0.7316\n",
            "Epoch 15/50\n",
            "614/614 [==============================] - 19s 31ms/step - loss: 0.2123 - accuracy: 0.7374\n",
            "Epoch 16/50\n",
            "614/614 [==============================] - 20s 32ms/step - loss: 0.2103 - accuracy: 0.7458\n",
            "Epoch 17/50\n",
            "614/614 [==============================] - 19s 31ms/step - loss: 0.2057 - accuracy: 0.7483\n",
            "Epoch 18/50\n",
            "614/614 [==============================] - 19s 31ms/step - loss: 0.2034 - accuracy: 0.7484\n",
            "Epoch 19/50\n",
            "614/614 [==============================] - 19s 31ms/step - loss: 0.2007 - accuracy: 0.7633\n",
            "Epoch 20/50\n",
            "614/614 [==============================] - 19s 31ms/step - loss: 0.2025 - accuracy: 0.7599\n",
            "Epoch 21/50\n",
            "614/614 [==============================] - 19s 32ms/step - loss: 0.1954 - accuracy: 0.7655\n",
            "Epoch 22/50\n",
            "614/614 [==============================] - 19s 31ms/step - loss: 0.1947 - accuracy: 0.7670\n",
            "Epoch 23/50\n",
            "614/614 [==============================] - 19s 31ms/step - loss: 0.1940 - accuracy: 0.7686\n",
            "Epoch 24/50\n",
            "614/614 [==============================] - 19s 31ms/step - loss: 0.1896 - accuracy: 0.7737\n",
            "Epoch 25/50\n",
            "614/614 [==============================] - 21s 33ms/step - loss: 0.1861 - accuracy: 0.7779\n",
            "Epoch 26/50\n",
            "614/614 [==============================] - 19s 30ms/step - loss: 0.1838 - accuracy: 0.7823\n",
            "Epoch 27/50\n",
            "614/614 [==============================] - 19s 31ms/step - loss: 0.1838 - accuracy: 0.7849\n",
            "Epoch 28/50\n",
            "614/614 [==============================] - 19s 32ms/step - loss: 0.1799 - accuracy: 0.7885\n",
            "Epoch 29/50\n",
            "614/614 [==============================] - 19s 31ms/step - loss: 0.1762 - accuracy: 0.7974\n",
            "Epoch 30/50\n",
            "614/614 [==============================] - 19s 31ms/step - loss: 0.1739 - accuracy: 0.7997\n",
            "Epoch 31/50\n",
            "614/614 [==============================] - 20s 32ms/step - loss: 0.1739 - accuracy: 0.7983\n",
            "Epoch 32/50\n",
            "614/614 [==============================] - 26s 42ms/step - loss: 0.1710 - accuracy: 0.8039\n",
            "Epoch 33/50\n",
            "614/614 [==============================] - 19s 31ms/step - loss: 0.1688 - accuracy: 0.8089\n",
            "Epoch 34/50\n",
            "614/614 [==============================] - 19s 31ms/step - loss: 0.1673 - accuracy: 0.8125\n",
            "Epoch 35/50\n",
            "614/614 [==============================] - 19s 31ms/step - loss: 0.1647 - accuracy: 0.8123\n",
            "Epoch 36/50\n",
            "614/614 [==============================] - 20s 32ms/step - loss: 0.1623 - accuracy: 0.8114\n",
            "Epoch 37/50\n",
            "614/614 [==============================] - 19s 31ms/step - loss: 0.1592 - accuracy: 0.8223\n",
            "Epoch 38/50\n",
            "614/614 [==============================] - 19s 31ms/step - loss: 0.1579 - accuracy: 0.8246\n",
            "Epoch 39/50\n",
            "614/614 [==============================] - 19s 31ms/step - loss: 0.1549 - accuracy: 0.8295\n",
            "Epoch 40/50\n",
            "614/614 [==============================] - 19s 31ms/step - loss: 0.1532 - accuracy: 0.8323\n",
            "Epoch 41/50\n",
            "614/614 [==============================] - 19s 31ms/step - loss: 0.1505 - accuracy: 0.8318\n",
            "Epoch 42/50\n",
            "614/614 [==============================] - 19s 30ms/step - loss: 0.1484 - accuracy: 0.8389\n",
            "Epoch 43/50\n",
            "614/614 [==============================] - 19s 30ms/step - loss: 0.1459 - accuracy: 0.8418\n",
            "Epoch 44/50\n",
            "614/614 [==============================] - 19s 31ms/step - loss: 0.1450 - accuracy: 0.8437\n",
            "Epoch 45/50\n",
            "614/614 [==============================] - 19s 31ms/step - loss: 0.1432 - accuracy: 0.8423\n",
            "Epoch 46/50\n",
            "614/614 [==============================] - 19s 30ms/step - loss: 0.1416 - accuracy: 0.8454\n",
            "Epoch 47/50\n",
            "614/614 [==============================] - 19s 30ms/step - loss: 0.1407 - accuracy: 0.8420\n",
            "Epoch 48/50\n",
            "614/614 [==============================] - 19s 30ms/step - loss: 0.1366 - accuracy: 0.8537\n",
            "Epoch 49/50\n",
            "614/614 [==============================] - 19s 31ms/step - loss: 0.1362 - accuracy: 0.8547\n",
            "Epoch 50/50\n",
            "614/614 [==============================] - 19s 31ms/step - loss: 0.1330 - accuracy: 0.8546\n"
          ]
        }
      ]
    },
    {
      "cell_type": "code",
      "source": [
        "model.save('Epilepsy.h5')"
      ],
      "metadata": {
        "id": "krSSKbWnd9Xg"
      },
      "execution_count": 16,
      "outputs": []
    },
    {
      "cell_type": "code",
      "source": [
        "plt.figure(0)\n",
        "plt.plot(hist.history['loss'],'g')\n",
        "plt.plot(hist.history['accuracy'],'r')\n",
        "plt.show()"
      ],
      "metadata": {
        "colab": {
          "base_uri": "https://localhost:8080/",
          "height": 265
        },
        "id": "7LLq6ryagSra",
        "outputId": "0fb34feb-0762-4849-bd8d-284eb671a963"
      },
      "execution_count": 18,
      "outputs": [
        {
          "output_type": "display_data",
          "data": {
            "text/plain": [
              "<Figure size 432x288 with 1 Axes>"
            ],
            "image/png": "[encoded data removed]"
          },
          "metadata": {
            "needs_background": "light"
          }
        }
      ]
    },
    {
      "cell_type": "code",
      "source": [
        "'''plt.figure(0)\n",
        "plt.legend(hist.history['Validation'])\n",
        "plt.plot(hist.history['val_loss'],'b')\n",
        "plt.plot(hist.history['val_accuracy'],'black')\n",
        "plt.show()'''\n",
        "'''\n",
        "acc = hist.history['accuracy']\n",
        "val_accuracy = hist.history['val_accuracy']\n",
        "loss = hist.history['loss']\n",
        "val_loss = hist.history['val_loss']'''\n",
        "print(hist.history.keys())\n",
        "# summarize history for accuracy\n",
        "plt.plot(hist.history['accuracy'])\n",
        "plt.plot(hist.history['val_accuracy'])\n",
        "plt.title('model accuracy')\n",
        "plt.ylabel('accuracy')\n",
        "plt.xlabel('epoch')"
      ],
      "metadata": {
        "colab": {
          "base_uri": "https://localhost:8080/",
          "height": 500
        },
        "id": "HJHSCNrqhtQP",
        "outputId": "0cce4e57-6fce-4299-d0b9-f5b49a993edd"
      },
      "execution_count": 32,
      "outputs": [
        {
          "output_type": "stream",
          "name": "stdout",
          "text": [
            "dict_keys(['loss', 'accuracy'])\n"
          ]
        },
        {
          "output_type": "error",
          "ename": "KeyError",
          "evalue": "ignored",
          "traceback": [
            "\u001b[0;31m---------------------------------------------------------------------------\u001b[0m",
            "\u001b[0;31mKeyError\u001b[0m                                  Traceback (most recent call last)",
            "\u001b[0;32m<ipython-input-32-689f3c7630a0>\u001b[0m in \u001b[0;36m<module>\u001b[0;34m()\u001b[0m\n\u001b[1;32m     12\u001b[0m \u001b[0;31m# summarize history for accuracy\u001b[0m\u001b[0;34m\u001b[0m\u001b[0;34m\u001b[0m\u001b[0;34m\u001b[0m\u001b[0m\n\u001b[1;32m     13\u001b[0m \u001b[0mplt\u001b[0m\u001b[0;34m.\u001b[0m\u001b[0mplot\u001b[0m\u001b[0;34m(\u001b[0m\u001b[0mhist\u001b[0m\u001b[0;34m.\u001b[0m\u001b[0mhistory\u001b[0m\u001b[0;34m[\u001b[0m\u001b[0;34m'accuracy'\u001b[0m\u001b[0;34m]\u001b[0m\u001b[0;34m)\u001b[0m\u001b[0;34m\u001b[0m\u001b[0;34m\u001b[0m\u001b[0m\n\u001b[0;32m---> 14\u001b[0;31m \u001b[0mplt\u001b[0m\u001b[0;34m.\u001b[0m\u001b[0mplot\u001b[0m\u001b[0;34m(\u001b[0m\u001b[0mhist\u001b[0m\u001b[0;34m.\u001b[0m\u001b[0mhistory\u001b[0m\u001b[0;34m[\u001b[0m\u001b[0;34m'val_accuracy'\u001b[0m\u001b[0;34m]\u001b[0m\u001b[0;34m)\u001b[0m\u001b[0;34m\u001b[0m\u001b[0;34m\u001b[0m\u001b[0m\n\u001b[0m\u001b[1;32m     15\u001b[0m \u001b[0mplt\u001b[0m\u001b[0;34m.\u001b[0m\u001b[0mtitle\u001b[0m\u001b[0;34m(\u001b[0m\u001b[0;34m'model accuracy'\u001b[0m\u001b[0;34m)\u001b[0m\u001b[0;34m\u001b[0m\u001b[0;34m\u001b[0m\u001b[0m\n\u001b[1;32m     16\u001b[0m \u001b[0mplt\u001b[0m\u001b[0;34m.\u001b[0m\u001b[0mylabel\u001b[0m\u001b[0;34m(\u001b[0m\u001b[0;34m'accuracy'\u001b[0m\u001b[0;34m)\u001b[0m\u001b[0;34m\u001b[0m\u001b[0;34m\u001b[0m\u001b[0m\n",
            "\u001b[0;31mKeyError\u001b[0m: 'val_accuracy'"
          ]
        },
        {
          "output_type": "display_data",
          "data": {
            "text/plain": [
              "<Figure size 432x288 with 1 Axes>"
            ],
            "image/png": "[encoded data removed]"
          },
          "metadata": {
            "needs_background": "light"
          }
        }
      ]
    }
  ]
}